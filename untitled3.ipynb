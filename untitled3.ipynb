{
 "cells": [
  {
   "cell_type": "code",
   "execution_count": 21,
   "id": "5e79218f-226f-4fbd-90b1-2f1a44c0d483",
   "metadata": {},
   "outputs": [
    {
     "name": "stdout",
     "output_type": "stream",
     "text": [
      "    Serial No Employee Name  Age  Experience (Years)  Estimated Salary  \\\n",
      "0           1    Employee_1   35                   4            108048   \n",
      "1           2    Employee_2   26                   5             55311   \n",
      "2           3    Employee_3   54                   3             99036   \n",
      "3           4    Employee_4   40                  19            127731   \n",
      "4           5    Employee_5   51                  17            107823   \n",
      "5           6    Employee_6   32                   6             64476   \n",
      "6           7    Employee_7   51                  15            115286   \n",
      "7           8    Employee_8   34                   3            130500   \n",
      "8           9    Employee_9   50                  11             62044   \n",
      "9          10   Employee_10   33                   3             95052   \n",
      "10         11   Employee_11   58                  30             78210   \n",
      "11         12   Employee_12   28                   5             38073   \n",
      "12         13   Employee_13   55                  31             79562   \n",
      "13         14   Employee_14   42                   9             64188   \n",
      "14         15   Employee_15   36                   4             98932   \n",
      "15         16   Employee_16   60                  23             91747   \n",
      "16         17   Employee_17   46                   3             99823   \n",
      "17         18   Employee_18   48                  16            133636   \n",
      "18         19   Employee_19   53                  17            102758   \n",
      "19         20   Employee_20   37                   6             45888   \n",
      "20         21   Employee_21   27                   6            116421   \n",
      "21         22   Employee_22   46                  15             35905   \n",
      "22         23   Employee_23   24                   3             86907   \n",
      "23         24   Employee_24   54                  14            107386   \n",
      "24         25   Employee_25   31                   1             90354   \n",
      "25         26   Employee_26   45                  14             66463   \n",
      "26         27   Employee_27   32                   3             53894   \n",
      "27         28   Employee_28   29                   5            148630   \n",
      "28         29   Employee_29   57                  16             48557   \n",
      "29         30   Employee_30   26                   5             62707   \n",
      "30         31   Employee_31   49                  14             77902   \n",
      "31         32   Employee_32   33                   6             35453   \n",
      "32         33   Employee_33   42                   3            113066   \n",
      "33         34   Employee_34   52                   1             53211   \n",
      "34         35   Employee_35   27                   3             52017   \n",
      "35         36   Employee_36   44                   8            107475   \n",
      "36         37   Employee_37   31                   4             48405   \n",
      "37         38   Employee_38   33                   3             30149   \n",
      "38         39   Employee_39   55                  28             93766   \n",
      "39         40   Employee_40   29                   5             50937   \n",
      "40         41   Employee_41   57                  23            102850   \n",
      "41         42   Employee_42   44                  16             82660   \n",
      "42         43   Employee_43   22                   1            105391   \n",
      "43         44   Employee_44   32                   1             62492   \n",
      "44         45   Employee_45   51                  29             52160   \n",
      "45         46   Employee_46   23                   2             91817   \n",
      "46         47   Employee_47   34                   4             98861   \n",
      "47         48   Employee_48   37                   2             88854   \n",
      "48         49   Employee_49   50                  24            104108   \n",
      "49         50   Employee_50   35                   5             65410   \n",
      "\n",
      "    Monthly Expenditure  \n",
      "0                 66183  \n",
      "1                 42351  \n",
      "2                 57762  \n",
      "3                 84079  \n",
      "4                 96837  \n",
      "5                 34324  \n",
      "6                 65552  \n",
      "7                118554  \n",
      "8                 45529  \n",
      "9                 75874  \n",
      "10                47324  \n",
      "11                23062  \n",
      "12                56728  \n",
      "13                53501  \n",
      "14                90454  \n",
      "15                49932  \n",
      "16                86215  \n",
      "17                84414  \n",
      "18                89393  \n",
      "19                26831  \n",
      "20                65905  \n",
      "21                20467  \n",
      "22                60852  \n",
      "23               103392  \n",
      "24                55818  \n",
      "25                49414  \n",
      "26                27366  \n",
      "27                98692  \n",
      "28                32524  \n",
      "29                43481  \n",
      "30                68196  \n",
      "31                21141  \n",
      "32                97124  \n",
      "33                38345  \n",
      "34                32891  \n",
      "35               105663  \n",
      "36                26171  \n",
      "37                23532  \n",
      "38                59157  \n",
      "39                30086  \n",
      "40                60073  \n",
      "41                73195  \n",
      "42                82754  \n",
      "43                35202  \n",
      "44                46266  \n",
      "45                76400  \n",
      "46                66704  \n",
      "47                80155  \n",
      "48                96353  \n",
      "49                53840  \n",
      "Serial No              0\n",
      "Employee Name          0\n",
      "Age                    0\n",
      "Experience (Years)     0\n",
      "Estimated Salary       0\n",
      "Monthly Expenditure    0\n",
      "dtype: int64\n"
     ]
    }
   ],
   "source": [
    "import numpy as np\n",
    "import pandas as pd\n",
    "a=pd.read_csv(\"employee_data.csv\")\n",
    "print(a)\n",
    "print(a.isnull().sum())\n"
   ]
  },
  {
   "cell_type": "code",
   "execution_count": 22,
   "id": "4c5302cc-632a-41ed-85e2-fa90ecd216ec",
   "metadata": {},
   "outputs": [],
   "source": [
    "x=a.iloc[:,[2,4]]\n",
    "y=a.iloc[:,5]"
   ]
  },
  {
   "cell_type": "code",
   "execution_count": 23,
   "id": "0951fb1e-0856-482c-a96f-42065aa1a658",
   "metadata": {},
   "outputs": [],
   "source": [
    "x.head()\n",
    "y.head()\n",
    "from sklearn.model_selection import train_test_split\n",
    "x_train,x_test,y_train,y_test = train_test_split(x,y,test_size=0.2)\n"
   ]
  },
  {
   "cell_type": "code",
   "execution_count": 24,
   "id": "0f43d5d6-a639-470f-b1d1-0cfce3d2ee22",
   "metadata": {},
   "outputs": [],
   "source": [
    "from sklearn.svm import SVC\n",
    "clf=SVC(kernel='linear')\n",
    "clf.fit(x_train,y_train)\n",
    "y_pred=clf.predict(x_test)\n"
   ]
  },
  {
   "cell_type": "code",
   "execution_count": 25,
   "id": "84970661-664a-4df8-a6b7-e5a7ac1db484",
   "metadata": {},
   "outputs": [
    {
     "name": "stdout",
     "output_type": "stream",
     "text": [
      "0.0\n"
     ]
    }
   ],
   "source": [
    "from sklearn.metrics import accuracy_score\n",
    "accuracy=accuracy_score(y_test,y_pred)\n",
    "print(accuracy)"
   ]
  },
  {
   "cell_type": "code",
   "execution_count": null,
   "id": "9be2d0a5-d14d-4351-8ba4-dc55d029daac",
   "metadata": {},
   "outputs": [],
   "source": []
  }
 ],
 "metadata": {
  "kernelspec": {
   "display_name": "Python 3 (ipykernel)",
   "language": "python",
   "name": "python3"
  },
  "language_info": {
   "codemirror_mode": {
    "name": "ipython",
    "version": 3
   },
   "file_extension": ".py",
   "mimetype": "text/x-python",
   "name": "python",
   "nbconvert_exporter": "python",
   "pygments_lexer": "ipython3",
   "version": "3.12.4"
  }
 },
 "nbformat": 4,
 "nbformat_minor": 5
}
